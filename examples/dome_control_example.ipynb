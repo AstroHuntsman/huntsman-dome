{
 "cells": [
  {
   "cell_type": "code",
   "execution_count": null,
   "metadata": {},
   "outputs": [],
   "source": [
    "from domehunter import Dome\n",
    "# When the domehunter package tries to import the sn3218 library it will either find it isn't installed, or it wont detect the hardware it is expecting\n",
    "# in both cases a warning will be raised. If you are testing without the automationHAT this warning can be ignored."
   ]
  },
  {
   "cell_type": "code",
   "execution_count": 2,
   "metadata": {},
   "outputs": [],
   "source": [
    "# testing=True means all the automationHAT functionality and the state of the GPIOzero pins will be mocked/simulated\n",
    "# debug_lights=True means the automationHAT status LEDs will be enabled on the automationHAT. If you do not have an automationHAT this should be set to False.\n",
    "\n",
    "# NB at the moment if you try and create Dome twice it wont work because the gpio pins from the first instance wont be released.\n",
    "testdome = Dome(testing=True, debug_lights=False)"
   ]
  },
  {
   "cell_type": "code",
   "execution_count": 4,
   "metadata": {},
   "outputs": [
    {
     "name": "stdout",
     "output_type": "stream",
     "text": [
      "Encoder activated _increment_count\n",
      "Encoder activated _increment_count\n",
      "Encoder activated _increment_count\n",
      "Encoder activated _increment_count\n",
      "Encoder activated _increment_count\n",
      "Encoder activated _increment_count\n",
      "Encoder activated _increment_count\n",
      "Encoder activated _increment_count\n",
      "Encoder activated _increment_count\n",
      "Encoder activated _increment_count\n",
      "Encoder activated _increment_count\n",
      "Encoder activated _increment_count\n",
      "Encoder activated _increment_count\n",
      "Encoder activated _increment_count\n",
      "Encoder activated _increment_count\n",
      "Encoder activated _increment_count\n",
      "Encoder activated _increment_count\n",
      "Encoder activated _increment_count\n",
      "Encoder activated _increment_count\n",
      "Encoder activated _increment_count\n"
     ]
    }
   ],
   "source": [
    "# the calibrate method tells the dome to rotate n times (default n=2) and use the encoder counts to determine the degrees of rotation per encoder tick\n",
    "# In testing mode, we will simulate 10 ticks per rotation, for 20 ticks total.\n",
    "testdome.calibrate()"
   ]
  },
  {
   "cell_type": "code",
   "execution_count": 3,
   "metadata": {},
   "outputs": [
    {
     "name": "stdout",
     "output_type": "stream",
     "text": [
      "Dome rotates 1 degrees per encoder tick. Current encoder count is 0\n"
     ]
    }
   ],
   "source": [
    "# We can now check the the degrees per tick factor and the encoder count\n",
    "print(f'Dome rotates {testdome.az_per_tick} degrees per encoder tick. Current encoder count is {testdome.encoder_count}.')"
   ]
  },
  {
   "cell_type": "code",
   "execution_count": 6,
   "metadata": {},
   "outputs": [],
   "source": [
    "# If we are in testing mode, lets now tell it that is at an azimuth of 90 degrees, an encoder count of 9 and that it rotates 10 degrees per tick.\n",
    "testdome.dome_az = 90\n",
    "testdome.encoder_count = 9\n",
    "testdome.az_per_tick = 10"
   ]
  },
  {
   "cell_type": "code",
   "execution_count": 7,
   "metadata": {},
   "outputs": [
    {
     "data": {
      "text/plain": [
       "90"
      ]
     },
     "execution_count": 7,
     "metadata": {},
     "output_type": "execute_result"
    }
   ],
   "source": [
    "# check where the dome thinks it is\n",
    "testdome.getAz()"
   ]
  },
  {
   "cell_type": "code",
   "execution_count": 8,
   "metadata": {},
   "outputs": [
    {
     "name": "stdout",
     "output_type": "stream",
     "text": [
      "Encoder activated _increment_count\n",
      "Encoder activated _increment_count\n",
      "Encoder activated _increment_count\n",
      "Encoder activated _increment_count\n",
      "Encoder activated _increment_count\n",
      "Encoder activated _increment_count\n",
      "Encoder activated _increment_count\n",
      "Encoder activated _increment_count\n",
      "Encoder activated _increment_count\n",
      "Encoder activated _increment_count\n",
      "Encoder activated _increment_count\n",
      "Encoder activated _increment_count\n",
      "Encoder activated _increment_count\n",
      "Encoder activated _increment_count\n",
      "Encoder activated _increment_count\n",
      "Encoder activated _increment_count\n"
     ]
    }
   ],
   "source": [
    "# now we can tell it to go to an azimuth of 300 degrees. The dome will realise it is quicker to rotate anticlockwise\n",
    "testdome.GotoAz(300)"
   ]
  },
  {
   "cell_type": "code",
   "execution_count": 9,
   "metadata": {},
   "outputs": [
    {
     "name": "stdout",
     "output_type": "stream",
     "text": [
      "Dome is currently at an azimuth of 290.0, with an encoder count of 29.0\n"
     ]
    }
   ],
   "source": [
    "# we can now check if the dome ended up where we wanted.\n",
    "print(f'Dome is currently at an azimuth of {testdome.getAz()}, with an encoder count of {testdome.encoder_count}')"
   ]
  },
  {
   "cell_type": "code",
   "execution_count": 10,
   "metadata": {},
   "outputs": [],
   "source": [
    "# currently the dome will overshoot the position depending on how fine the az_per_tick instance variable is (10 degrees is pretty coarse).\n",
    "# The dome azimuth is only updated according to how many ticks were recorded, so even if it overshoots it should still know where it is.\n",
    "# after every movement, once the dome_az is update the encoder is set to the corresponding number of ticks as if it had just rotated from\n",
    "# azimuth of zero to the current location (encoder_count = dome_az/az_per_tick)"
   ]
  },
  {
   "cell_type": "code",
   "execution_count": 11,
   "metadata": {},
   "outputs": [
    {
     "name": "stdout",
     "output_type": "stream",
     "text": [
      "Encoder activated _increment_count\n",
      "Encoder activated _increment_count\n",
      "Encoder activated _increment_count\n",
      "Encoder activated _increment_count\n",
      "Encoder activated _increment_count\n",
      "Encoder activated _increment_count\n",
      "Encoder activated _increment_count\n",
      "Encoder activated _increment_count\n"
     ]
    }
   ],
   "source": [
    "# now send the dome to an azimuth of 2 degrees, in this case the dome will decide to rotate clockwise.\n",
    "testdome.GotoAz(2)"
   ]
  },
  {
   "cell_type": "code",
   "execution_count": 12,
   "metadata": {},
   "outputs": [
    {
     "name": "stdout",
     "output_type": "stream",
     "text": [
      "Dome is currently at an azimuth of 10.0, with an encoder count of 1.0\n"
     ]
    }
   ],
   "source": [
    "# we can now check if the dome ended up where we wanted.\n",
    "print(f'Dome is currently at an azimuth of {testdome.getAz()}, with an encoder count of {testdome.encoder_count}')"
   ]
  },
  {
   "cell_type": "code",
   "execution_count": null,
   "metadata": {},
   "outputs": [],
   "source": []
  }
 ],
 "metadata": {
  "kernelspec": {
   "display_name": "Python 3",
   "language": "python",
   "name": "python3"
  },
  "language_info": {
   "codemirror_mode": {
    "name": "ipython",
    "version": 3
   },
   "file_extension": ".py",
   "mimetype": "text/x-python",
   "name": "python",
   "nbconvert_exporter": "python",
   "pygments_lexer": "ipython3",
   "version": "3.6.7"
  }
 },
 "nbformat": 4,
 "nbformat_minor": 2
}
