{
 "cells": [
  {
   "cell_type": "code",
   "execution_count": null,
   "metadata": {},
   "outputs": [],
   "source": [
    "\"\"\"\n",
    "When the domehunter package tries to import the sn3218 library it will either find it isn't installed, \n",
    "or it wont detect the hardware it is expecting in both cases a warning will be raised. If you are \n",
    "testing without the automationHAT this warning can be ignored.\n",
    "\"\"\"\n",
    "\n",
    "from domehunter.dome_control import Dome\n",
    "import astropy.units as u\n",
    "from astropy.coordinates import Angle, Longitude\n",
    "import time"
   ]
  },
  {
   "cell_type": "code",
   "execution_count": null,
   "metadata": {},
   "outputs": [],
   "source": [
    "# set the loggin level\n",
    "import logging\n",
    "logger = logging.getLogger()\n",
    "logger.setLevel(logging.INFO)\n",
    "#logger.setLevel(logging.DEBUG)"
   ]
  },
  {
   "cell_type": "code",
   "execution_count": null,
   "metadata": {},
   "outputs": [],
   "source": [
    "\"\"\"\n",
    "testing=True means all the automationHAT functionality and the state of the GPIOzero pins will be \n",
    "mocked/simulated debug_lights=True means the automationHAT status LEDs will be enabled on the \n",
    "automationHAT. If you do not have an automationHAT this should be set to False.\n",
    "\n",
    "First positional argument is the azimuth of the home position.\n",
    "\n",
    "NB at the moment if you try and create Dome twice it wont work because the gpio pins from the \n",
    "first instance wont be released.\n",
    "\"\"\"\n",
    "\n",
    "testdome = Dome(0, testing=True, debug_lights=False)"
   ]
  },
  {
   "cell_type": "code",
   "execution_count": null,
   "metadata": {},
   "outputs": [],
   "source": [
    "\"\"\"\n",
    "The calibrate method tells the dome to rotate n times (default n=2) and use the encoder counts to \n",
    "determine the degrees of rotation per encoder tick.\n",
    "In testing mode, we will simulate 10 ticks per rotation, for 20 ticks total.\n",
    "\"\"\"\n",
    "\n",
    "testdome.calibrate_dome_encoder_counts()"
   ]
  },
  {
   "cell_type": "code",
   "execution_count": null,
   "metadata": {},
   "outputs": [],
   "source": [
    "\"\"\"\n",
    "We can now check the the degrees per tick factor and the encoder count\n",
    "\"\"\"\n",
    "\n",
    "print(f'Dome rotates {testdome.degrees_per_tick} degrees per encoder tick. Current encoder count is {testdome.encoder_count}.')"
   ]
  },
  {
   "cell_type": "code",
   "execution_count": null,
   "metadata": {},
   "outputs": [],
   "source": [
    "\"\"\"\n",
    "If we are in testing mode, lets now tell it that is at an azimuth of 90 degrees, an encoder count \n",
    "of 9 and that it rotates 10 degrees per tick. ND these are all private member variables, so to \n",
    "access them we need to use the \"name mangled\" member variable names\n",
    "\"\"\"\n",
    "\n",
    "testdome._encoder_count = 9\n",
    "testdome._degrees_per_tick = Angle(10 * u.deg)\n",
    "testdome._dome_az = Angle(90 * u.deg)"
   ]
  },
  {
   "cell_type": "code",
   "execution_count": null,
   "metadata": {},
   "outputs": [],
   "source": [
    "print(testdome.encoder_count)\n",
    "print(testdome.degrees_per_tick)\n",
    "print(testdome.dome_az)\n",
    "print(testdome.az_position_tolerance)"
   ]
  },
  {
   "cell_type": "code",
   "execution_count": null,
   "metadata": {},
   "outputs": [],
   "source": [
    "\"\"\"Check where the dome thinks it is\"\"\"\n",
    "\n",
    "testdome.dome_az"
   ]
  },
  {
   "cell_type": "code",
   "execution_count": null,
   "metadata": {},
   "outputs": [],
   "source": [
    "\"\"\"Now we can tell it to go to an azimuth of 300 degrees. The dome will realise it is quicker to rotate anticlockwise\"\"\"\n",
    "\n",
    "testdome.goto_az(300)\n",
    "while testdome.movement_thread_active:\n",
    "    time.sleep(1)"
   ]
  },
  {
   "cell_type": "code",
   "execution_count": null,
   "metadata": {},
   "outputs": [],
   "source": [
    "print(testdome.encoder_count)\n",
    "print(testdome.degrees_per_tick)\n",
    "print(testdome.dome_az)\n",
    "print(testdome.az_position_tolerance)"
   ]
  },
  {
   "cell_type": "code",
   "execution_count": null,
   "metadata": {},
   "outputs": [],
   "source": [
    "\"\"\"We can now check if the dome ended up where we wanted.\"\"\"\n",
    "\n",
    "print(f'Dome is currently at an azimuth of {testdome.dome_az}, with an encoder count of {testdome.encoder_count}')"
   ]
  },
  {
   "cell_type": "code",
   "execution_count": null,
   "metadata": {},
   "outputs": [],
   "source": [
    "\"\"\"\n",
    "Currently the dome will overshoot the position depending on how fine the az_per_tick instance \n",
    "variable is (10 degrees is pretty coarse). The dome azimuth is only updated according to how \n",
    "many ticks were recorded, so even if it overshoots it should still know where it is. After \n",
    "every movement, once the dome_az is update the encoder is set to the corresponding number of \n",
    "ticks as if it had just rotated from azimuth of zero to the current location \n",
    "(encoder_count = dome_az/az_per_tick)\n",
    "\n",
    "Now send the dome to an azimuth of 2 degrees, in this case the dome will decide to rotate clockwise.\n",
    "\"\"\"\n",
    "\n",
    "testdome.goto_az(2)\n",
    "while testdome.movement_thread_active:\n",
    "    time.sleep(1)"
   ]
  },
  {
   "cell_type": "code",
   "execution_count": null,
   "metadata": {},
   "outputs": [],
   "source": [
    "\"\"\"We can now check if the dome ended up where we wanted.\"\"\"\n",
    "\n",
    "print(f'Dome is currently at an azimuth of {testdome.dome_az}, with an encoder count of {testdome.encoder_count}')"
   ]
  },
  {
   "cell_type": "code",
   "execution_count": null,
   "metadata": {},
   "outputs": [],
   "source": []
  }
 ],
 "metadata": {
  "kernelspec": {
   "display_name": "Python 3",
   "language": "python",
   "name": "python3"
  },
  "language_info": {
   "codemirror_mode": {
    "name": "ipython",
    "version": 3
   },
   "file_extension": ".py",
   "mimetype": "text/x-python",
   "name": "python",
   "nbconvert_exporter": "python",
   "pygments_lexer": "ipython3",
   "version": "3.6.7"
  }
 },
 "nbformat": 4,
 "nbformat_minor": 2
}
