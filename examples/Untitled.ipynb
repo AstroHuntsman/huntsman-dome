{
 "cells": [
  {
   "cell_type": "code",
   "execution_count": 1,
   "metadata": {},
   "outputs": [],
   "source": [
    "import threading\n",
    "import time"
   ]
  },
  {
   "cell_type": "code",
   "execution_count": 2,
   "metadata": {},
   "outputs": [],
   "source": [
    "# Thread, Timer, Event and Lock. Those are the bits you'll need.\n",
    "\n",
    "# For the non-blocking moves the basic idea is that you write a function that contains the \n",
    "# while loop that checks when it's time to stop the move, you create a Thread and pass it \n",
    "# that function, start the move, start the Thread, then return. The Thread will run in the \n",
    "# background and stop the move then at target. (edited)\n",
    "\n",
    "# You can use Events to do simple communication between threads, e.g. you can pass one to \n",
    "# the dome movement thread and use it to stop the move early if the abort function is called."
   ]
  },
  {
   "cell_type": "code",
   "execution_count": 3,
   "metadata": {},
   "outputs": [],
   "source": [
    "import threading\n",
    "import time\n",
    "\n",
    "class FakeDome(object):\n",
    "    def __init__(self):\n",
    "        self._encoder_count = 0\n",
    "        self.abort_event = threading.Event()\n",
    "\n",
    "    @property\n",
    "    def encoder_count(self):\n",
    "        return self._encoder_count\n",
    "\n",
    "    def move(self, ticks=10):\n",
    "        # dummy move command that just moves us 10 ticks from current encoder position\n",
    "        target_count = self.encoder_count + ticks\n",
    "        # create the monitor thread that tracks completion of movement command\n",
    "        self.monitor = threading.Thread(target=self.move_condition, args=[target_count])\n",
    "        # create a thread to simulate ticks\n",
    "        self.simticks = threading.Thread(target=self.simulate_ticks, args=[ticks])\n",
    "        # start both threads\n",
    "        self.monitor.start()\n",
    "        self.simticks.start()\n",
    "        return\n",
    "    \n",
    "    def move_condition(self, target_count):\n",
    "        # record the start time, to check for timeout condition\n",
    "        start = time.time()\n",
    "        while self.encoder_count < target_count:\n",
    "            # check to see if abort_event is set and end move() if it is\n",
    "            if self.abort_event.is_set():\n",
    "                return\n",
    "            # short break to space ticks/status-checks out\n",
    "            time.sleep(1)\n",
    "            print(f'encoder count recorded, {target_count - self.encoder_count} ticks remaining.')\n",
    "            # if monitor thread has been going for more than 15s end it\n",
    "            if time.time() - start > 15:\n",
    "                return\n",
    "        return\n",
    "    \n",
    "    def simulate_ticks(self, ticks):\n",
    "        for tick in range(ticks):\n",
    "            # check to see if abort_event is set and end move() if it is\n",
    "            if self.abort_event.is_set():\n",
    "                return\n",
    "            time.sleep(1)\n",
    "            print(f'ENCODER COUNT INCREMENT, current count: {self.encoder_count}')\n",
    "            self._encoder_count+=1\n",
    "        return\n",
    "    \n",
    "    def abort_move(self):\n",
    "        # set the abort_event flag\n",
    "        self.abort_event.set()\n",
    "        # check to make sure both the monitor and simticks thread have terminated\n",
    "        if not self.monitor.is_alive() and not self.simticks.is_alive():\n",
    "            # now we can reset the abort_event flag\n",
    "            self.abort_event.clear()\n",
    "        return\n"
   ]
  },
  {
   "cell_type": "code",
   "execution_count": 4,
   "metadata": {},
   "outputs": [],
   "source": [
    "fdome = FakeDome()"
   ]
  },
  {
   "cell_type": "code",
   "execution_count": 5,
   "metadata": {},
   "outputs": [
    {
     "name": "stdout",
     "output_type": "stream",
     "text": [
      "encoder count recorded, 10 ticks remaining.\n",
      "ENCODER COUNT INCREMENT, current count: 0\n",
      "ENCODER COUNT INCREMENT, current count: 1\n",
      "encoder count recorded, 8 ticks remaining.\n",
      "ENCODER COUNT INCREMENT, current count: 2\n",
      "encoder count recorded, 7 ticks remaining.\n",
      "ENCODER COUNT INCREMENT, current count: 3\n",
      "encoder count recorded, 6 ticks remaining.\n",
      "ENCODER COUNT INCREMENT, current count: 4\n",
      "encoder count recorded, 5 ticks remaining.\n"
     ]
    }
   ],
   "source": [
    "fdome.move()"
   ]
  },
  {
   "cell_type": "code",
   "execution_count": 6,
   "metadata": {},
   "outputs": [
    {
     "name": "stdout",
     "output_type": "stream",
     "text": [
      "ENCODER COUNT INCREMENT, current count: 5\n",
      "encoder count recorded, 4 ticks remaining.\n"
     ]
    }
   ],
   "source": [
    "fdome.abort_move()"
   ]
  },
  {
   "cell_type": "code",
   "execution_count": 6,
   "metadata": {},
   "outputs": [],
   "source": [
    "fdome._encoder_count = 0"
   ]
  },
  {
   "cell_type": "code",
   "execution_count": 7,
   "metadata": {},
   "outputs": [
    {
     "data": {
      "text/plain": [
       "0"
      ]
     },
     "execution_count": 7,
     "metadata": {},
     "output_type": "execute_result"
    }
   ],
   "source": [
    "fdome.encoder_count"
   ]
  },
  {
   "cell_type": "code",
   "execution_count": 7,
   "metadata": {},
   "outputs": [],
   "source": [
    "fdome.move()"
   ]
  },
  {
   "cell_type": "code",
   "execution_count": null,
   "metadata": {},
   "outputs": [],
   "source": []
  },
  {
   "cell_type": "code",
   "execution_count": null,
   "metadata": {},
   "outputs": [],
   "source": []
  }
 ],
 "metadata": {
  "kernelspec": {
   "display_name": "Python 3",
   "language": "python",
   "name": "python3"
  },
  "language_info": {
   "codemirror_mode": {
    "name": "ipython",
    "version": 3
   },
   "file_extension": ".py",
   "mimetype": "text/x-python",
   "name": "python",
   "nbconvert_exporter": "python",
   "pygments_lexer": "ipython3",
   "version": "3.7.3"
  }
 },
 "nbformat": 4,
 "nbformat_minor": 2
}
