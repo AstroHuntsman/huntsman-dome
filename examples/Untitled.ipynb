{
 "cells": [
  {
   "cell_type": "code",
   "execution_count": 15,
   "metadata": {},
   "outputs": [],
   "source": [
    "from enum import Flag"
   ]
  },
  {
   "cell_type": "code",
   "execution_count": 16,
   "metadata": {},
   "outputs": [],
   "source": [
    "led_status = 0b000000000000000000"
   ]
  },
  {
   "cell_type": "code",
   "execution_count": 17,
   "metadata": {},
   "outputs": [],
   "source": [
    "led_lights_ind = {\n",
    "    'power': 2,\n",
    "    'comms': 3,\n",
    "    'warn': 4,\n",
    "    'input_1': 5,\n",
    "    'input_2': 6,\n",
    "    'input_3': 7,\n",
    "    'relay_3_normally_closed': 8,\n",
    "    'relay_3_normally_open': 9,\n",
    "    'relay_2_normally_closed': 10,\n",
    "    'relay_2_normally_open': 11,\n",
    "    'relay_1_normally_closed': 12,\n",
    "    'relay_1_normally_open': 13,\n",
    "    'output_3': 14,\n",
    "    'output_2': 15,\n",
    "    'output_1': 16,\n",
    "    'adc_3': 17,\n",
    "    'adc_2': 18,\n",
    "    'adc_1': 19\n",
    "}"
   ]
  },
  {
   "cell_type": "code",
   "execution_count": 18,
   "metadata": {},
   "outputs": [],
   "source": [
    "new_state = format(led_status, '#020b')"
   ]
  },
  {
   "cell_type": "code",
   "execution_count": 24,
   "metadata": {},
   "outputs": [
    {
     "data": {
      "text/plain": [
       "'0'"
      ]
     },
     "execution_count": 24,
     "metadata": {},
     "output_type": "execute_result"
    }
   ],
   "source": [
    "list(new_state)[2]"
   ]
  },
  {
   "cell_type": "code",
   "execution_count": 27,
   "metadata": {},
   "outputs": [],
   "source": [
    "class LED_lights(Flag):\n",
    "    POWER = 0b100000000000000000\n",
    "    COMMS = 0b010000000000000000\n",
    "    WARN = 0b001000000000000000\n",
    "    INPUT_1 = 0b000100000000000000\n",
    "    INPUT_2 = 0b000010000000000000\n",
    "    INPUT_3 = 0b000001000000000000\n",
    "    RELAY_3_NC = 0b000000100000000000\n",
    "    RELAY_3_NO = 0b000000010000000000\n",
    "    RELAY_2_NC = 0b000000001000000000\n",
    "    RELAY_2_NO = 0b000000000100000000\n",
    "    RELAY_1_NC = 0b000000000010000000\n",
    "    RELAY_1_NO = 0b000000000001000000\n",
    "    OUTPUT_3 = 0b000000000000100000\n",
    "    OUTPUT_2 = 0b000000000000010000\n",
    "    OUTPUT_1 = 0b000000000000001000\n",
    "    ADC_3 = 0b000000000000000100\n",
    "    ADC_2 = 0b000000000000000010\n",
    "    ADC_1 = 0b000000000000000001"
   ]
  },
  {
   "cell_type": "code",
   "execution_count": 45,
   "metadata": {},
   "outputs": [
    {
     "name": "stdout",
     "output_type": "stream",
     "text": [
      "0b000000001010000000\n",
      "0b000000001000000000\n",
      "0b000000001000000000\n"
     ]
    }
   ],
   "source": [
    "ledstatus = LED_lights.relay_2_normally_closed | LED_lights.relay_1_normally_closed\n",
    "print(format(ledstatus.value, '#020b'))\n",
    "ledstatus&=(~LED_lights.relay_1_normally_closed)\n",
    "print(format(ledstatus.value, '#020b'))\n",
    "ledstatus&=(~LED_lights.relay_1_normally_closed)\n",
    "print(format(ledstatus.value, '#020b'))"
   ]
  },
  {
   "cell_type": "code",
   "execution_count": 41,
   "metadata": {},
   "outputs": [
    {
     "data": {
      "text/plain": [
       "'0b000000001010000000'"
      ]
     },
     "execution_count": 41,
     "metadata": {},
     "output_type": "execute_result"
    }
   ],
   "source": [
    "format(ledstatus.value, '#020b')"
   ]
  },
  {
   "cell_type": "code",
   "execution_count": 42,
   "metadata": {},
   "outputs": [
    {
     "data": {
      "text/plain": [
       "'0b000000001000000000'"
      ]
     },
     "execution_count": 42,
     "metadata": {},
     "output_type": "execute_result"
    }
   ],
   "source": [
    "format(ledstatus2.value, '#020b')"
   ]
  },
  {
   "cell_type": "code",
   "execution_count": 43,
   "metadata": {},
   "outputs": [
    {
     "data": {
      "text/plain": [
       "'0b000000001000000000'"
      ]
     },
     "execution_count": 43,
     "metadata": {},
     "output_type": "execute_result"
    }
   ],
   "source": [
    "format(ledstatus3.value, '#020b')"
   ]
  },
  {
   "cell_type": "code",
   "execution_count": 46,
   "metadata": {},
   "outputs": [],
   "source": [
    "dt = 1"
   ]
  },
  {
   "cell_type": "code",
   "execution_count": 47,
   "metadata": {},
   "outputs": [
    {
     "name": "stdout",
     "output_type": "stream",
     "text": [
      "a\n"
     ]
    }
   ],
   "source": [
    "if dt is 1:\n",
    "    print('a')"
   ]
  },
  {
   "cell_type": "code",
   "execution_count": null,
   "metadata": {},
   "outputs": [],
   "source": []
  }
 ],
 "metadata": {
  "kernelspec": {
   "display_name": "Python 3",
   "language": "python",
   "name": "python3"
  },
  "language_info": {
   "codemirror_mode": {
    "name": "ipython",
    "version": 3
   },
   "file_extension": ".py",
   "mimetype": "text/x-python",
   "name": "python",
   "nbconvert_exporter": "python",
   "pygments_lexer": "ipython3",
   "version": "3.7.3"
  }
 },
 "nbformat": 4,
 "nbformat_minor": 2
}
