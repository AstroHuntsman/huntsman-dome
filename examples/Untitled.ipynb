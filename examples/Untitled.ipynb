{
 "cells": [
  {
   "cell_type": "code",
   "execution_count": 11,
   "metadata": {},
   "outputs": [],
   "source": [
    "import yaml"
   ]
  },
  {
   "cell_type": "code",
   "execution_count": 12,
   "metadata": {},
   "outputs": [],
   "source": [
    "with open('/home/fergus/Documents/REPOS/huntsman-dome/examples/test.yml', 'rb') as f:\n",
    "    conf = yaml.load(f.read())    # load the config file"
   ]
  },
  {
   "cell_type": "code",
   "execution_count": 13,
   "metadata": {},
   "outputs": [],
   "source": [
    "def process(**params):    # pass in variable numbers of \n",
    "    for key, value in params.items():\n",
    "        print('%s: %s' % (key, value))"
   ]
  },
  {
   "cell_type": "code",
   "execution_count": 14,
   "metadata": {},
   "outputs": [
    {
     "name": "stdout",
     "output_type": "stream",
     "text": [
      "name: Huntsman Dome Controller\n",
      "home_azimuth: 0\n",
      "testing: True\n",
      "debug_lights: False\n",
      "az_position_tolerance: 1.0\n",
      "degrees_per_tick: 1.16\n",
      "encoder_pin_number: 26\n",
      "home_sensor_pin_number: 20\n",
      "rotation_relay_pin_number: 13\n",
      "direction_relay_pin_number: 19\n",
      "bounce_time: 0.1\n",
      "num_cal_rotations: 2\n"
     ]
    }
   ],
   "source": [
    "process(**conf)    # pass in your keyword args"
   ]
  },
  {
   "cell_type": "code",
   "execution_count": 16,
   "metadata": {},
   "outputs": [
    {
     "data": {
      "text/plain": [
       "{'name': 'Huntsman Dome Controller',\n",
       " 'home_azimuth': 0,\n",
       " 'testing': True,\n",
       " 'debug_lights': False,\n",
       " 'az_position_tolerance': 1.0,\n",
       " 'degrees_per_tick': 1.16,\n",
       " 'encoder_pin_number': 26,\n",
       " 'home_sensor_pin_number': 20,\n",
       " 'rotation_relay_pin_number': 13,\n",
       " 'direction_relay_pin_number': 19,\n",
       " 'bounce_time': 0.1,\n",
       " 'num_cal_rotations': 2}"
      ]
     },
     "execution_count": 16,
     "metadata": {},
     "output_type": "execute_result"
    }
   ],
   "source": [
    "conf"
   ]
  },
  {
   "cell_type": "code",
   "execution_count": 17,
   "metadata": {},
   "outputs": [],
   "source": [
    "t2 = {'serversim': True, 'comms-test': True}"
   ]
  },
  {
   "cell_type": "code",
   "execution_count": 20,
   "metadata": {},
   "outputs": [],
   "source": [
    "t3 = dict()"
   ]
  },
  {
   "cell_type": "code",
   "execution_count": 22,
   "metadata": {},
   "outputs": [],
   "source": [
    "tt = {**conf, **t3}"
   ]
  },
  {
   "cell_type": "code",
   "execution_count": 24,
   "metadata": {},
   "outputs": [
    {
     "data": {
      "text/plain": [
       "0"
      ]
     },
     "execution_count": 24,
     "metadata": {},
     "output_type": "execute_result"
    }
   ],
   "source": [
    "tt['home_azimuth']"
   ]
  },
  {
   "cell_type": "code",
   "execution_count": 18,
   "metadata": {},
   "outputs": [],
   "source": [
    "tot = {**conf, **t2}"
   ]
  },
  {
   "cell_type": "code",
   "execution_count": 19,
   "metadata": {},
   "outputs": [
    {
     "data": {
      "text/plain": [
       "{'name': 'Huntsman Dome Controller',\n",
       " 'home_azimuth': 0,\n",
       " 'testing': True,\n",
       " 'debug_lights': False,\n",
       " 'az_position_tolerance': 1.0,\n",
       " 'degrees_per_tick': 1.16,\n",
       " 'encoder_pin_number': 26,\n",
       " 'home_sensor_pin_number': 20,\n",
       " 'rotation_relay_pin_number': 13,\n",
       " 'direction_relay_pin_number': 19,\n",
       " 'bounce_time': 0.1,\n",
       " 'num_cal_rotations': 2,\n",
       " 'serversim': True,\n",
       " 'comms-test': True}"
      ]
     },
     "execution_count": 19,
     "metadata": {},
     "output_type": "execute_result"
    }
   ],
   "source": [
    "tot\n"
   ]
  },
  {
   "cell_type": "code",
   "execution_count": null,
   "metadata": {},
   "outputs": [],
   "source": []
  }
 ],
 "metadata": {
  "kernelspec": {
   "display_name": "Python 3",
   "language": "python",
   "name": "python3"
  },
  "language_info": {
   "codemirror_mode": {
    "name": "ipython",
    "version": 3
   },
   "file_extension": ".py",
   "mimetype": "text/x-python",
   "name": "python",
   "nbconvert_exporter": "python",
   "pygments_lexer": "ipython3",
   "version": "3.6.7"
  }
 },
 "nbformat": 4,
 "nbformat_minor": 2
}
