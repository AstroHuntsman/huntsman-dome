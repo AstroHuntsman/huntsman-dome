{
 "cells": [
  {
   "cell_type": "code",
   "execution_count": 1,
   "metadata": {},
   "outputs": [
    {
     "name": "stderr",
     "output_type": "stream",
     "text": [
      "/home/fergus/Documents/REPOS/huntsman-dome/domehunter/__init__.py:23: UserWarning: Something went wrong in importing sn3218, status lights unlikely to work.\n",
      "  \"Something went wrong in importing sn3218, status lights unlikely to work.\")\n"
     ]
    }
   ],
   "source": [
    "import domehunter"
   ]
  },
  {
   "cell_type": "code",
   "execution_count": 2,
   "metadata": {},
   "outputs": [],
   "source": [
    "dome = domehunter.Dome(testing=True, debug_lights=False)"
   ]
  },
  {
   "cell_type": "code",
   "execution_count": 3,
   "metadata": {},
   "outputs": [
    {
     "name": "stdout",
     "output_type": "stream",
     "text": [
      "None\n"
     ]
    }
   ],
   "source": [
    "print(dome.dome_az)"
   ]
  },
  {
   "cell_type": "code",
   "execution_count": 4,
   "metadata": {},
   "outputs": [
    {
     "name": "stdout",
     "output_type": "stream",
     "text": [
      "Dome is not yet calibrated, running through calibration procedure, then will go to AZ specified.\n",
      "Encoder activated _increment_count\n",
      "Encoder activated _increment_count\n",
      "Encoder activated _increment_count\n",
      "Encoder activated _increment_count\n",
      "Encoder activated _increment_count\n",
      "Encoder activated _increment_count\n",
      "Encoder activated _increment_count\n",
      "Encoder activated _increment_count\n",
      "Encoder activated _increment_count\n",
      "Encoder activated _increment_count\n",
      "Encoder activated _increment_count\n",
      "Encoder activated _increment_count\n",
      "Encoder activated _increment_count\n",
      "Encoder activated _increment_count\n",
      "Encoder activated _increment_count\n",
      "Encoder activated _increment_count\n",
      "Encoder activated _increment_count\n",
      "Encoder activated _increment_count\n",
      "Encoder activated _increment_count\n",
      "Encoder activated _increment_count\n",
      "Encoder activated _increment_count\n",
      "Encoder activated _increment_count\n"
     ]
    }
   ],
   "source": [
    "dome.GotoAz(315)"
   ]
  },
  {
   "cell_type": "code",
   "execution_count": 5,
   "metadata": {},
   "outputs": [
    {
     "name": "stdout",
     "output_type": "stream",
     "text": [
      "encoder: 8.0\n",
      "dome az: 288.0\n",
      "az per tick 36.0\n"
     ]
    }
   ],
   "source": [
    "print(f'encoder: {dome.encoder_count}\\ndome az: {dome.dome_az}\\naz per tick {dome.az_per_tick}')"
   ]
  },
  {
   "cell_type": "code",
   "execution_count": 6,
   "metadata": {},
   "outputs": [],
   "source": [
    "__minimum_python_version__ = \"3.6\"\n",
    "t=tuple((int(val) for val in __minimum_python_version__.split('.')))"
   ]
  },
  {
   "cell_type": "code",
   "execution_count": 7,
   "metadata": {},
   "outputs": [
    {
     "data": {
      "text/plain": [
       "(3, 6)"
      ]
     },
     "execution_count": 7,
     "metadata": {},
     "output_type": "execute_result"
    }
   ],
   "source": [
    "t"
   ]
  },
  {
   "cell_type": "code",
   "execution_count": null,
   "metadata": {},
   "outputs": [],
   "source": []
  }
 ],
 "metadata": {
  "kernelspec": {
   "display_name": "Python 3",
   "language": "python",
   "name": "python3"
  },
  "language_info": {
   "codemirror_mode": {
    "name": "ipython",
    "version": 3
   },
   "file_extension": ".py",
   "mimetype": "text/x-python",
   "name": "python",
   "nbconvert_exporter": "python",
   "pygments_lexer": "ipython3",
   "version": "3.6.7"
  }
 },
 "nbformat": 4,
 "nbformat_minor": 2
}
